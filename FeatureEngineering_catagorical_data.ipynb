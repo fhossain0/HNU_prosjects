{
 "cells": [
  {
   "cell_type": "code",
   "execution_count": 60,
   "id": "849a6cc9",
   "metadata": {},
   "outputs": [],
   "source": [
    "import pandas as pd\n",
    "import numpy as np\n",
    "import matplotlib.pyplot as plt\n",
    "%matplotlib inline\n",
    "import seaborn as sns \n",
    "import plotly.express as px"
   ]
  },
  {
   "cell_type": "code",
   "execution_count": 61,
   "id": "72733cea",
   "metadata": {},
   "outputs": [],
   "source": [
    "file= '/Users/farhad/Desktop/Frauser /Datasets/airlines_data.xlsx'"
   ]
  },
  {
   "cell_type": "code",
   "execution_count": 62,
   "id": "455e7730",
   "metadata": {},
   "outputs": [],
   "source": [
    "airdata= pd.read_excel(file)"
   ]
  },
  {
   "cell_type": "code",
   "execution_count": 63,
   "id": "b4945229",
   "metadata": {},
   "outputs": [
    {
     "data": {
      "application/vnd.microsoft.datawrangler.viewer.v0+json": {
       "columns": [
        {
         "name": "index",
         "rawType": "int64",
         "type": "integer"
        },
        {
         "name": "Airline",
         "rawType": "object",
         "type": "string"
        },
        {
         "name": "Date_of_Journey",
         "rawType": "object",
         "type": "string"
        },
        {
         "name": "Source",
         "rawType": "object",
         "type": "string"
        },
        {
         "name": "Destination",
         "rawType": "object",
         "type": "string"
        },
        {
         "name": "Route",
         "rawType": "object",
         "type": "string"
        },
        {
         "name": "Dep_Time",
         "rawType": "object",
         "type": "string"
        },
        {
         "name": "Arrival_Time",
         "rawType": "object",
         "type": "string"
        },
        {
         "name": "Duration",
         "rawType": "object",
         "type": "string"
        },
        {
         "name": "Total_Stops",
         "rawType": "object",
         "type": "string"
        },
        {
         "name": "Additional_Info",
         "rawType": "object",
         "type": "string"
        },
        {
         "name": "Price",
         "rawType": "int64",
         "type": "integer"
        }
       ],
       "ref": "e43cbf7e-be1a-4f81-8176-442b83957f61",
       "rows": [
        [
         "0",
         "IndiGo",
         "24/03/2019",
         "Banglore",
         "New Delhi",
         "BLR → DEL",
         "22:20",
         "01:10 22 Mar",
         "2h 50m",
         "non-stop",
         "No info",
         "3897"
        ],
        [
         "1",
         "Air India",
         "1/05/2019",
         "Kolkata",
         "Banglore",
         "CCU → IXR → BBI → BLR",
         "05:50",
         "13:15",
         "7h 25m",
         "2 stops",
         "No info",
         "7662"
        ],
        [
         "2",
         "Jet Airways",
         "9/06/2019",
         "Delhi",
         "Cochin",
         "DEL → LKO → BOM → COK",
         "09:25",
         "04:25 10 Jun",
         "19h",
         "2 stops",
         "No info",
         "13882"
        ],
        [
         "3",
         "IndiGo",
         "12/05/2019",
         "Kolkata",
         "Banglore",
         "CCU → NAG → BLR",
         "18:05",
         "23:30",
         "5h 25m",
         "1 stop",
         "No info",
         "6218"
        ],
        [
         "4",
         "IndiGo",
         "01/03/2019",
         "Banglore",
         "New Delhi",
         "BLR → NAG → DEL",
         "16:50",
         "21:35",
         "4h 45m",
         "1 stop",
         "No info",
         "13302"
        ]
       ],
       "shape": {
        "columns": 11,
        "rows": 5
       }
      },
      "text/html": [
       "<div>\n",
       "<style scoped>\n",
       "    .dataframe tbody tr th:only-of-type {\n",
       "        vertical-align: middle;\n",
       "    }\n",
       "\n",
       "    .dataframe tbody tr th {\n",
       "        vertical-align: top;\n",
       "    }\n",
       "\n",
       "    .dataframe thead th {\n",
       "        text-align: right;\n",
       "    }\n",
       "</style>\n",
       "<table border=\"1\" class=\"dataframe\">\n",
       "  <thead>\n",
       "    <tr style=\"text-align: right;\">\n",
       "      <th></th>\n",
       "      <th>Airline</th>\n",
       "      <th>Date_of_Journey</th>\n",
       "      <th>Source</th>\n",
       "      <th>Destination</th>\n",
       "      <th>Route</th>\n",
       "      <th>Dep_Time</th>\n",
       "      <th>Arrival_Time</th>\n",
       "      <th>Duration</th>\n",
       "      <th>Total_Stops</th>\n",
       "      <th>Additional_Info</th>\n",
       "      <th>Price</th>\n",
       "    </tr>\n",
       "  </thead>\n",
       "  <tbody>\n",
       "    <tr>\n",
       "      <th>0</th>\n",
       "      <td>IndiGo</td>\n",
       "      <td>24/03/2019</td>\n",
       "      <td>Banglore</td>\n",
       "      <td>New Delhi</td>\n",
       "      <td>BLR → DEL</td>\n",
       "      <td>22:20</td>\n",
       "      <td>01:10 22 Mar</td>\n",
       "      <td>2h 50m</td>\n",
       "      <td>non-stop</td>\n",
       "      <td>No info</td>\n",
       "      <td>3897</td>\n",
       "    </tr>\n",
       "    <tr>\n",
       "      <th>1</th>\n",
       "      <td>Air India</td>\n",
       "      <td>1/05/2019</td>\n",
       "      <td>Kolkata</td>\n",
       "      <td>Banglore</td>\n",
       "      <td>CCU → IXR → BBI → BLR</td>\n",
       "      <td>05:50</td>\n",
       "      <td>13:15</td>\n",
       "      <td>7h 25m</td>\n",
       "      <td>2 stops</td>\n",
       "      <td>No info</td>\n",
       "      <td>7662</td>\n",
       "    </tr>\n",
       "    <tr>\n",
       "      <th>2</th>\n",
       "      <td>Jet Airways</td>\n",
       "      <td>9/06/2019</td>\n",
       "      <td>Delhi</td>\n",
       "      <td>Cochin</td>\n",
       "      <td>DEL → LKO → BOM → COK</td>\n",
       "      <td>09:25</td>\n",
       "      <td>04:25 10 Jun</td>\n",
       "      <td>19h</td>\n",
       "      <td>2 stops</td>\n",
       "      <td>No info</td>\n",
       "      <td>13882</td>\n",
       "    </tr>\n",
       "    <tr>\n",
       "      <th>3</th>\n",
       "      <td>IndiGo</td>\n",
       "      <td>12/05/2019</td>\n",
       "      <td>Kolkata</td>\n",
       "      <td>Banglore</td>\n",
       "      <td>CCU → NAG → BLR</td>\n",
       "      <td>18:05</td>\n",
       "      <td>23:30</td>\n",
       "      <td>5h 25m</td>\n",
       "      <td>1 stop</td>\n",
       "      <td>No info</td>\n",
       "      <td>6218</td>\n",
       "    </tr>\n",
       "    <tr>\n",
       "      <th>4</th>\n",
       "      <td>IndiGo</td>\n",
       "      <td>01/03/2019</td>\n",
       "      <td>Banglore</td>\n",
       "      <td>New Delhi</td>\n",
       "      <td>BLR → NAG → DEL</td>\n",
       "      <td>16:50</td>\n",
       "      <td>21:35</td>\n",
       "      <td>4h 45m</td>\n",
       "      <td>1 stop</td>\n",
       "      <td>No info</td>\n",
       "      <td>13302</td>\n",
       "    </tr>\n",
       "  </tbody>\n",
       "</table>\n",
       "</div>"
      ],
      "text/plain": [
       "       Airline Date_of_Journey    Source Destination                  Route  \\\n",
       "0       IndiGo      24/03/2019  Banglore   New Delhi              BLR → DEL   \n",
       "1    Air India       1/05/2019   Kolkata    Banglore  CCU → IXR → BBI → BLR   \n",
       "2  Jet Airways       9/06/2019     Delhi      Cochin  DEL → LKO → BOM → COK   \n",
       "3       IndiGo      12/05/2019   Kolkata    Banglore        CCU → NAG → BLR   \n",
       "4       IndiGo      01/03/2019  Banglore   New Delhi        BLR → NAG → DEL   \n",
       "\n",
       "  Dep_Time  Arrival_Time Duration Total_Stops Additional_Info  Price  \n",
       "0    22:20  01:10 22 Mar   2h 50m    non-stop         No info   3897  \n",
       "1    05:50         13:15   7h 25m     2 stops         No info   7662  \n",
       "2    09:25  04:25 10 Jun      19h     2 stops         No info  13882  \n",
       "3    18:05         23:30   5h 25m      1 stop         No info   6218  \n",
       "4    16:50         21:35   4h 45m      1 stop         No info  13302  "
      ]
     },
     "execution_count": 63,
     "metadata": {},
     "output_type": "execute_result"
    }
   ],
   "source": [
    "airdata.head()"
   ]
  },
  {
   "cell_type": "code",
   "execution_count": 64,
   "id": "66cd7655",
   "metadata": {},
   "outputs": [
    {
     "name": "stdout",
     "output_type": "stream",
     "text": [
      "<class 'pandas.core.frame.DataFrame'>\n",
      "RangeIndex: 10683 entries, 0 to 10682\n",
      "Data columns (total 11 columns):\n",
      " #   Column           Non-Null Count  Dtype \n",
      "---  ------           --------------  ----- \n",
      " 0   Airline          10683 non-null  object\n",
      " 1   Date_of_Journey  10683 non-null  object\n",
      " 2   Source           10683 non-null  object\n",
      " 3   Destination      10683 non-null  object\n",
      " 4   Route            10682 non-null  object\n",
      " 5   Dep_Time         10683 non-null  object\n",
      " 6   Arrival_Time     10683 non-null  object\n",
      " 7   Duration         10683 non-null  object\n",
      " 8   Total_Stops      10682 non-null  object\n",
      " 9   Additional_Info  10683 non-null  object\n",
      " 10  Price            10683 non-null  int64 \n",
      "dtypes: int64(1), object(10)\n",
      "memory usage: 918.2+ KB\n"
     ]
    },
    {
     "data": {
      "application/vnd.microsoft.datawrangler.viewer.v0+json": {
       "columns": [
        {
         "name": "index",
         "rawType": "object",
         "type": "string"
        },
        {
         "name": "0",
         "rawType": "int64",
         "type": "integer"
        }
       ],
       "ref": "dc176307-5c42-4c11-8f93-6c04206bff40",
       "rows": [
        [
         "Airline",
         "0"
        ],
        [
         "Date_of_Journey",
         "0"
        ],
        [
         "Source",
         "0"
        ],
        [
         "Destination",
         "0"
        ],
        [
         "Route",
         "0"
        ],
        [
         "Dep_Time",
         "0"
        ],
        [
         "Arrival_Time",
         "0"
        ],
        [
         "Duration",
         "0"
        ],
        [
         "Total_Stops",
         "0"
        ],
        [
         "Additional_Info",
         "0"
        ],
        [
         "Price",
         "0"
        ]
       ],
       "shape": {
        "columns": 1,
        "rows": 11
       }
      },
      "text/plain": [
       "Airline            0\n",
       "Date_of_Journey    0\n",
       "Source             0\n",
       "Destination        0\n",
       "Route              0\n",
       "Dep_Time           0\n",
       "Arrival_Time       0\n",
       "Duration           0\n",
       "Total_Stops        0\n",
       "Additional_Info    0\n",
       "Price              0\n",
       "dtype: int64"
      ]
     },
     "execution_count": 64,
     "metadata": {},
     "output_type": "execute_result"
    }
   ],
   "source": [
    "airdata.info()\n",
    "airdata.isnull().sum()\n",
    "airdata.ffill(inplace= True)\n",
    "airdata.isnull().sum()"
   ]
  },
  {
   "cell_type": "code",
   "execution_count": 65,
   "id": "6dff1d63",
   "metadata": {},
   "outputs": [
    {
     "data": {
      "text/plain": [
       "['IndiGo',\n",
       " 'Air India',\n",
       " 'Jet Airways',\n",
       " 'SpiceJet',\n",
       " 'Multiple carriers',\n",
       " 'GoAir',\n",
       " 'Vistara',\n",
       " 'Air Asia',\n",
       " 'Vistara Premium economy',\n",
       " 'Jet Airways Business',\n",
       " 'Multiple carriers Premium economy',\n",
       " 'Trujet']"
      ]
     },
     "execution_count": 65,
     "metadata": {},
     "output_type": "execute_result"
    }
   ],
   "source": [
    "# Deals with categorical data and turn it into methemetiocal unit\n",
    "airdata.columns\n",
    "airdata['Airline'].unique().tolist()"
   ]
  },
  {
   "cell_type": "code",
   "execution_count": 66,
   "id": "195bdd92",
   "metadata": {},
   "outputs": [],
   "source": [
    "airdata['airline']= np.where(airdata['Airline']== 'Vistara Premium economy', 'Vistara', airdata['Airline'])\n",
    "airdata['airline']= np.where(airdata['Airline']== 'Jet Airways Business', 'Jet Airways', airdata['Airline'])"
   ]
  },
  {
   "cell_type": "markdown",
   "id": "edb5762b",
   "metadata": {},
   "source": [
    "# One hot encoding \n",
    "+ get_dummies()\n"
   ]
  },
  {
   "cell_type": "code",
   "execution_count": 67,
   "id": "4f10e4b4",
   "metadata": {},
   "outputs": [
    {
     "data": {
      "application/vnd.microsoft.datawrangler.viewer.v0+json": {
       "columns": [
        {
         "name": "index",
         "rawType": "int64",
         "type": "integer"
        },
        {
         "name": "Date_of_Journey",
         "rawType": "object",
         "type": "string"
        },
        {
         "name": "Route",
         "rawType": "object",
         "type": "string"
        },
        {
         "name": "Dep_Time",
         "rawType": "object",
         "type": "string"
        },
        {
         "name": "Arrival_Time",
         "rawType": "object",
         "type": "string"
        },
        {
         "name": "Duration",
         "rawType": "object",
         "type": "string"
        },
        {
         "name": "Total_Stops",
         "rawType": "object",
         "type": "string"
        },
        {
         "name": "Additional_Info",
         "rawType": "object",
         "type": "string"
        },
        {
         "name": "Price",
         "rawType": "int64",
         "type": "integer"
        },
        {
         "name": "airline",
         "rawType": "object",
         "type": "string"
        },
        {
         "name": "Airline_Air Asia",
         "rawType": "bool",
         "type": "boolean"
        },
        {
         "name": "Airline_Air India",
         "rawType": "bool",
         "type": "boolean"
        },
        {
         "name": "Airline_GoAir",
         "rawType": "bool",
         "type": "boolean"
        },
        {
         "name": "Airline_IndiGo",
         "rawType": "bool",
         "type": "boolean"
        },
        {
         "name": "Airline_Jet Airways",
         "rawType": "bool",
         "type": "boolean"
        },
        {
         "name": "Airline_Jet Airways Business",
         "rawType": "bool",
         "type": "boolean"
        },
        {
         "name": "Airline_Multiple carriers",
         "rawType": "bool",
         "type": "boolean"
        },
        {
         "name": "Airline_Multiple carriers Premium economy",
         "rawType": "bool",
         "type": "boolean"
        },
        {
         "name": "Airline_SpiceJet",
         "rawType": "bool",
         "type": "boolean"
        },
        {
         "name": "Airline_Trujet",
         "rawType": "bool",
         "type": "boolean"
        },
        {
         "name": "Airline_Vistara",
         "rawType": "bool",
         "type": "boolean"
        },
        {
         "name": "Airline_Vistara Premium economy",
         "rawType": "bool",
         "type": "boolean"
        },
        {
         "name": "Source_Banglore",
         "rawType": "bool",
         "type": "boolean"
        },
        {
         "name": "Source_Chennai",
         "rawType": "bool",
         "type": "boolean"
        },
        {
         "name": "Source_Delhi",
         "rawType": "bool",
         "type": "boolean"
        },
        {
         "name": "Source_Kolkata",
         "rawType": "bool",
         "type": "boolean"
        },
        {
         "name": "Source_Mumbai",
         "rawType": "bool",
         "type": "boolean"
        },
        {
         "name": "Destination_Banglore",
         "rawType": "bool",
         "type": "boolean"
        },
        {
         "name": "Destination_Cochin",
         "rawType": "bool",
         "type": "boolean"
        },
        {
         "name": "Destination_Delhi",
         "rawType": "bool",
         "type": "boolean"
        },
        {
         "name": "Destination_Hyderabad",
         "rawType": "bool",
         "type": "boolean"
        },
        {
         "name": "Destination_Kolkata",
         "rawType": "bool",
         "type": "boolean"
        },
        {
         "name": "Destination_New Delhi",
         "rawType": "bool",
         "type": "boolean"
        }
       ],
       "ref": "3488627b-1aa2-4b49-b6c9-4cc90036ffa1",
       "rows": [
        [
         "0",
         "24/03/2019",
         "BLR → DEL",
         "22:20",
         "01:10 22 Mar",
         "2h 50m",
         "non-stop",
         "No info",
         "3897",
         "IndiGo",
         "False",
         "False",
         "False",
         "True",
         "False",
         "False",
         "False",
         "False",
         "False",
         "False",
         "False",
         "False",
         "True",
         "False",
         "False",
         "False",
         "False",
         "False",
         "False",
         "False",
         "False",
         "False",
         "True"
        ],
        [
         "1",
         "1/05/2019",
         "CCU → IXR → BBI → BLR",
         "05:50",
         "13:15",
         "7h 25m",
         "2 stops",
         "No info",
         "7662",
         "Air India",
         "False",
         "True",
         "False",
         "False",
         "False",
         "False",
         "False",
         "False",
         "False",
         "False",
         "False",
         "False",
         "False",
         "False",
         "False",
         "True",
         "False",
         "True",
         "False",
         "False",
         "False",
         "False",
         "False"
        ],
        [
         "2",
         "9/06/2019",
         "DEL → LKO → BOM → COK",
         "09:25",
         "04:25 10 Jun",
         "19h",
         "2 stops",
         "No info",
         "13882",
         "Jet Airways",
         "False",
         "False",
         "False",
         "False",
         "True",
         "False",
         "False",
         "False",
         "False",
         "False",
         "False",
         "False",
         "False",
         "False",
         "True",
         "False",
         "False",
         "False",
         "True",
         "False",
         "False",
         "False",
         "False"
        ],
        [
         "3",
         "12/05/2019",
         "CCU → NAG → BLR",
         "18:05",
         "23:30",
         "5h 25m",
         "1 stop",
         "No info",
         "6218",
         "IndiGo",
         "False",
         "False",
         "False",
         "True",
         "False",
         "False",
         "False",
         "False",
         "False",
         "False",
         "False",
         "False",
         "False",
         "False",
         "False",
         "True",
         "False",
         "True",
         "False",
         "False",
         "False",
         "False",
         "False"
        ],
        [
         "4",
         "01/03/2019",
         "BLR → NAG → DEL",
         "16:50",
         "21:35",
         "4h 45m",
         "1 stop",
         "No info",
         "13302",
         "IndiGo",
         "False",
         "False",
         "False",
         "True",
         "False",
         "False",
         "False",
         "False",
         "False",
         "False",
         "False",
         "False",
         "True",
         "False",
         "False",
         "False",
         "False",
         "False",
         "False",
         "False",
         "False",
         "False",
         "True"
        ]
       ],
       "shape": {
        "columns": 32,
        "rows": 5
       }
      },
      "text/html": [
       "<div>\n",
       "<style scoped>\n",
       "    .dataframe tbody tr th:only-of-type {\n",
       "        vertical-align: middle;\n",
       "    }\n",
       "\n",
       "    .dataframe tbody tr th {\n",
       "        vertical-align: top;\n",
       "    }\n",
       "\n",
       "    .dataframe thead th {\n",
       "        text-align: right;\n",
       "    }\n",
       "</style>\n",
       "<table border=\"1\" class=\"dataframe\">\n",
       "  <thead>\n",
       "    <tr style=\"text-align: right;\">\n",
       "      <th></th>\n",
       "      <th>Date_of_Journey</th>\n",
       "      <th>Route</th>\n",
       "      <th>Dep_Time</th>\n",
       "      <th>Arrival_Time</th>\n",
       "      <th>Duration</th>\n",
       "      <th>Total_Stops</th>\n",
       "      <th>Additional_Info</th>\n",
       "      <th>Price</th>\n",
       "      <th>airline</th>\n",
       "      <th>Airline_Air Asia</th>\n",
       "      <th>...</th>\n",
       "      <th>Source_Chennai</th>\n",
       "      <th>Source_Delhi</th>\n",
       "      <th>Source_Kolkata</th>\n",
       "      <th>Source_Mumbai</th>\n",
       "      <th>Destination_Banglore</th>\n",
       "      <th>Destination_Cochin</th>\n",
       "      <th>Destination_Delhi</th>\n",
       "      <th>Destination_Hyderabad</th>\n",
       "      <th>Destination_Kolkata</th>\n",
       "      <th>Destination_New Delhi</th>\n",
       "    </tr>\n",
       "  </thead>\n",
       "  <tbody>\n",
       "    <tr>\n",
       "      <th>0</th>\n",
       "      <td>24/03/2019</td>\n",
       "      <td>BLR → DEL</td>\n",
       "      <td>22:20</td>\n",
       "      <td>01:10 22 Mar</td>\n",
       "      <td>2h 50m</td>\n",
       "      <td>non-stop</td>\n",
       "      <td>No info</td>\n",
       "      <td>3897</td>\n",
       "      <td>IndiGo</td>\n",
       "      <td>False</td>\n",
       "      <td>...</td>\n",
       "      <td>False</td>\n",
       "      <td>False</td>\n",
       "      <td>False</td>\n",
       "      <td>False</td>\n",
       "      <td>False</td>\n",
       "      <td>False</td>\n",
       "      <td>False</td>\n",
       "      <td>False</td>\n",
       "      <td>False</td>\n",
       "      <td>True</td>\n",
       "    </tr>\n",
       "    <tr>\n",
       "      <th>1</th>\n",
       "      <td>1/05/2019</td>\n",
       "      <td>CCU → IXR → BBI → BLR</td>\n",
       "      <td>05:50</td>\n",
       "      <td>13:15</td>\n",
       "      <td>7h 25m</td>\n",
       "      <td>2 stops</td>\n",
       "      <td>No info</td>\n",
       "      <td>7662</td>\n",
       "      <td>Air India</td>\n",
       "      <td>False</td>\n",
       "      <td>...</td>\n",
       "      <td>False</td>\n",
       "      <td>False</td>\n",
       "      <td>True</td>\n",
       "      <td>False</td>\n",
       "      <td>True</td>\n",
       "      <td>False</td>\n",
       "      <td>False</td>\n",
       "      <td>False</td>\n",
       "      <td>False</td>\n",
       "      <td>False</td>\n",
       "    </tr>\n",
       "    <tr>\n",
       "      <th>2</th>\n",
       "      <td>9/06/2019</td>\n",
       "      <td>DEL → LKO → BOM → COK</td>\n",
       "      <td>09:25</td>\n",
       "      <td>04:25 10 Jun</td>\n",
       "      <td>19h</td>\n",
       "      <td>2 stops</td>\n",
       "      <td>No info</td>\n",
       "      <td>13882</td>\n",
       "      <td>Jet Airways</td>\n",
       "      <td>False</td>\n",
       "      <td>...</td>\n",
       "      <td>False</td>\n",
       "      <td>True</td>\n",
       "      <td>False</td>\n",
       "      <td>False</td>\n",
       "      <td>False</td>\n",
       "      <td>True</td>\n",
       "      <td>False</td>\n",
       "      <td>False</td>\n",
       "      <td>False</td>\n",
       "      <td>False</td>\n",
       "    </tr>\n",
       "    <tr>\n",
       "      <th>3</th>\n",
       "      <td>12/05/2019</td>\n",
       "      <td>CCU → NAG → BLR</td>\n",
       "      <td>18:05</td>\n",
       "      <td>23:30</td>\n",
       "      <td>5h 25m</td>\n",
       "      <td>1 stop</td>\n",
       "      <td>No info</td>\n",
       "      <td>6218</td>\n",
       "      <td>IndiGo</td>\n",
       "      <td>False</td>\n",
       "      <td>...</td>\n",
       "      <td>False</td>\n",
       "      <td>False</td>\n",
       "      <td>True</td>\n",
       "      <td>False</td>\n",
       "      <td>True</td>\n",
       "      <td>False</td>\n",
       "      <td>False</td>\n",
       "      <td>False</td>\n",
       "      <td>False</td>\n",
       "      <td>False</td>\n",
       "    </tr>\n",
       "    <tr>\n",
       "      <th>4</th>\n",
       "      <td>01/03/2019</td>\n",
       "      <td>BLR → NAG → DEL</td>\n",
       "      <td>16:50</td>\n",
       "      <td>21:35</td>\n",
       "      <td>4h 45m</td>\n",
       "      <td>1 stop</td>\n",
       "      <td>No info</td>\n",
       "      <td>13302</td>\n",
       "      <td>IndiGo</td>\n",
       "      <td>False</td>\n",
       "      <td>...</td>\n",
       "      <td>False</td>\n",
       "      <td>False</td>\n",
       "      <td>False</td>\n",
       "      <td>False</td>\n",
       "      <td>False</td>\n",
       "      <td>False</td>\n",
       "      <td>False</td>\n",
       "      <td>False</td>\n",
       "      <td>False</td>\n",
       "      <td>True</td>\n",
       "    </tr>\n",
       "  </tbody>\n",
       "</table>\n",
       "<p>5 rows × 32 columns</p>\n",
       "</div>"
      ],
      "text/plain": [
       "  Date_of_Journey                  Route Dep_Time  Arrival_Time Duration  \\\n",
       "0      24/03/2019              BLR → DEL    22:20  01:10 22 Mar   2h 50m   \n",
       "1       1/05/2019  CCU → IXR → BBI → BLR    05:50         13:15   7h 25m   \n",
       "2       9/06/2019  DEL → LKO → BOM → COK    09:25  04:25 10 Jun      19h   \n",
       "3      12/05/2019        CCU → NAG → BLR    18:05         23:30   5h 25m   \n",
       "4      01/03/2019        BLR → NAG → DEL    16:50         21:35   4h 45m   \n",
       "\n",
       "  Total_Stops Additional_Info  Price      airline  Airline_Air Asia  ...  \\\n",
       "0    non-stop         No info   3897       IndiGo             False  ...   \n",
       "1     2 stops         No info   7662    Air India             False  ...   \n",
       "2     2 stops         No info  13882  Jet Airways             False  ...   \n",
       "3      1 stop         No info   6218       IndiGo             False  ...   \n",
       "4      1 stop         No info  13302       IndiGo             False  ...   \n",
       "\n",
       "   Source_Chennai  Source_Delhi  Source_Kolkata  Source_Mumbai  \\\n",
       "0           False         False           False          False   \n",
       "1           False         False            True          False   \n",
       "2           False          True           False          False   \n",
       "3           False         False            True          False   \n",
       "4           False         False           False          False   \n",
       "\n",
       "   Destination_Banglore  Destination_Cochin  Destination_Delhi  \\\n",
       "0                 False               False              False   \n",
       "1                  True               False              False   \n",
       "2                 False                True              False   \n",
       "3                  True               False              False   \n",
       "4                 False               False              False   \n",
       "\n",
       "   Destination_Hyderabad  Destination_Kolkata  Destination_New Delhi  \n",
       "0                  False                False                   True  \n",
       "1                  False                False                  False  \n",
       "2                  False                False                  False  \n",
       "3                  False                False                  False  \n",
       "4                  False                False                   True  \n",
       "\n",
       "[5 rows x 32 columns]"
      ]
     },
     "execution_count": 67,
     "metadata": {},
     "output_type": "execute_result"
    }
   ],
   "source": [
    "dataset= pd.get_dummies(data= airdata, columns= ['Airline', 'Source', 'Destination'])\n",
    "\n",
    "dataset.head()"
   ]
  },
  {
   "cell_type": "code",
   "execution_count": 68,
   "id": "806bb987",
   "metadata": {},
   "outputs": [
    {
     "name": "stdout",
     "output_type": "stream",
     "text": [
      "(10683, 32) and (10683, 12)\n"
     ]
    }
   ],
   "source": [
    "print(dataset.shape , 'and', airdata.shape)  \n"
   ]
  },
  {
   "cell_type": "code",
   "execution_count": 69,
   "id": "eee1af3f",
   "metadata": {},
   "outputs": [
    {
     "name": "stderr",
     "output_type": "stream",
     "text": [
      "/var/folders/kx/t7xsn3md0wxf_6_gg_5dqyrm0000gn/T/ipykernel_15729/1682939461.py:3: FutureWarning: Downcasting behavior in `replace` is deprecated and will be removed in a future version. To retain the old behavior, explicitly call `result.infer_objects(copy=False)`. To opt-in to the future behavior, set `pd.set_option('future.no_silent_downcasting', True)`\n",
      "  dataset.replace({'1 stop': 1, '2 stops': 2, '3 stops': 3, '4 stops': 4, 'non-stop': 0}, inplace= True)\n"
     ]
    }
   ],
   "source": [
    "dataset['Total_Stops'].value_counts()\n",
    "# Here we can see that total stop is categorical data type so we will encode it wilth label encoding \n",
    "dataset.replace({'1 stop': 1, '2 stops': 2, '3 stops': 3, '4 stops': 4, 'non-stop': 0}, inplace= True)"
   ]
  },
  {
   "cell_type": "code",
   "execution_count": 70,
   "id": "14da1574",
   "metadata": {},
   "outputs": [],
   "source": [
    "# Transformation of the Duretion time columns \n",
    "duration = dataset['Duration'].tolist() # we take all the duretion information inside of the list \n",
    "for i in range(len(duration)):\n",
    "    if len(duration[i].split()) !=2:\n",
    "        if 'h' in duration[i]:\n",
    "            duration[i]= duration[i].strip()+ ' 0m' # remove leading and trailing whitespace\n",
    "        elif 'm' in duration[i]:\n",
    "            duration[i]= '0h {}'.format(duration[i].strip())\n",
    "dur_hours=[]\n",
    "dur_minute= []"
   ]
  },
  {
   "cell_type": "code",
   "execution_count": 71,
   "id": "7d8f9d97",
   "metadata": {},
   "outputs": [],
   "source": [
    "for i in range(len(duration)):\n",
    "    dur_hours.append(int(duration[i].split()[0][:-1]))\n",
    "    dur_minute.append(int(duration[i].split()[1][:-1]))"
   ]
  },
  {
   "cell_type": "code",
   "execution_count": 72,
   "id": "69acc74d",
   "metadata": {},
   "outputs": [],
   "source": [
    "dataset['Duration_Hours']= dur_hours\n",
    "dataset['Duration_Minutes']= dur_minute\n",
    "dataset.loc[:, 'Duration_Hours'] *= 60"
   ]
  },
  {
   "cell_type": "code",
   "execution_count": 73,
   "id": "a42e61b3",
   "metadata": {},
   "outputs": [],
   "source": [
    "dataset['Duration_Total_Hours']= dataset['Duration_Hours'] + dataset['Duration_Minutes']"
   ]
  },
  {
   "cell_type": "code",
   "execution_count": 74,
   "id": "9e260f5e",
   "metadata": {},
   "outputs": [
    {
     "data": {
      "application/vnd.microsoft.datawrangler.viewer.v0+json": {
       "columns": [
        {
         "name": "index",
         "rawType": "int64",
         "type": "integer"
        },
        {
         "name": "Date_of_Journey",
         "rawType": "object",
         "type": "string"
        },
        {
         "name": "Route",
         "rawType": "object",
         "type": "string"
        },
        {
         "name": "Dep_Time",
         "rawType": "object",
         "type": "string"
        },
        {
         "name": "Arrival_Time",
         "rawType": "object",
         "type": "string"
        },
        {
         "name": "Duration",
         "rawType": "object",
         "type": "string"
        },
        {
         "name": "Total_Stops",
         "rawType": "int64",
         "type": "integer"
        },
        {
         "name": "Additional_Info",
         "rawType": "object",
         "type": "string"
        },
        {
         "name": "Price",
         "rawType": "int64",
         "type": "integer"
        },
        {
         "name": "airline",
         "rawType": "object",
         "type": "string"
        },
        {
         "name": "Airline_Air Asia",
         "rawType": "bool",
         "type": "boolean"
        },
        {
         "name": "Airline_Air India",
         "rawType": "bool",
         "type": "boolean"
        },
        {
         "name": "Airline_GoAir",
         "rawType": "bool",
         "type": "boolean"
        },
        {
         "name": "Airline_IndiGo",
         "rawType": "bool",
         "type": "boolean"
        },
        {
         "name": "Airline_Jet Airways",
         "rawType": "bool",
         "type": "boolean"
        },
        {
         "name": "Airline_Jet Airways Business",
         "rawType": "bool",
         "type": "boolean"
        },
        {
         "name": "Airline_Multiple carriers",
         "rawType": "bool",
         "type": "boolean"
        },
        {
         "name": "Airline_Multiple carriers Premium economy",
         "rawType": "bool",
         "type": "boolean"
        },
        {
         "name": "Airline_SpiceJet",
         "rawType": "bool",
         "type": "boolean"
        },
        {
         "name": "Airline_Trujet",
         "rawType": "bool",
         "type": "boolean"
        },
        {
         "name": "Airline_Vistara",
         "rawType": "bool",
         "type": "boolean"
        },
        {
         "name": "Airline_Vistara Premium economy",
         "rawType": "bool",
         "type": "boolean"
        },
        {
         "name": "Source_Banglore",
         "rawType": "bool",
         "type": "boolean"
        },
        {
         "name": "Source_Chennai",
         "rawType": "bool",
         "type": "boolean"
        },
        {
         "name": "Source_Delhi",
         "rawType": "bool",
         "type": "boolean"
        },
        {
         "name": "Source_Kolkata",
         "rawType": "bool",
         "type": "boolean"
        },
        {
         "name": "Source_Mumbai",
         "rawType": "bool",
         "type": "boolean"
        },
        {
         "name": "Destination_Banglore",
         "rawType": "bool",
         "type": "boolean"
        },
        {
         "name": "Destination_Cochin",
         "rawType": "bool",
         "type": "boolean"
        },
        {
         "name": "Destination_Delhi",
         "rawType": "bool",
         "type": "boolean"
        },
        {
         "name": "Destination_Hyderabad",
         "rawType": "bool",
         "type": "boolean"
        },
        {
         "name": "Destination_Kolkata",
         "rawType": "bool",
         "type": "boolean"
        },
        {
         "name": "Destination_New Delhi",
         "rawType": "bool",
         "type": "boolean"
        },
        {
         "name": "Duration_Hours",
         "rawType": "int64",
         "type": "integer"
        },
        {
         "name": "Duration_Minutes",
         "rawType": "int64",
         "type": "integer"
        },
        {
         "name": "Duration_Total_Hours",
         "rawType": "int64",
         "type": "integer"
        }
       ],
       "ref": "9bfadc3a-82bb-4dc0-b6f8-7492ca177dd9",
       "rows": [
        [
         "0",
         "24/03/2019",
         "BLR → DEL",
         "22:20",
         "01:10 22 Mar",
         "2h 50m",
         "0",
         "No info",
         "3897",
         "IndiGo",
         "False",
         "False",
         "False",
         "True",
         "False",
         "False",
         "False",
         "False",
         "False",
         "False",
         "False",
         "False",
         "True",
         "False",
         "False",
         "False",
         "False",
         "False",
         "False",
         "False",
         "False",
         "False",
         "True",
         "120",
         "50",
         "170"
        ],
        [
         "1",
         "1/05/2019",
         "CCU → IXR → BBI → BLR",
         "05:50",
         "13:15",
         "7h 25m",
         "2",
         "No info",
         "7662",
         "Air India",
         "False",
         "True",
         "False",
         "False",
         "False",
         "False",
         "False",
         "False",
         "False",
         "False",
         "False",
         "False",
         "False",
         "False",
         "False",
         "True",
         "False",
         "True",
         "False",
         "False",
         "False",
         "False",
         "False",
         "420",
         "25",
         "445"
        ],
        [
         "2",
         "9/06/2019",
         "DEL → LKO → BOM → COK",
         "09:25",
         "04:25 10 Jun",
         "19h",
         "2",
         "No info",
         "13882",
         "Jet Airways",
         "False",
         "False",
         "False",
         "False",
         "True",
         "False",
         "False",
         "False",
         "False",
         "False",
         "False",
         "False",
         "False",
         "False",
         "True",
         "False",
         "False",
         "False",
         "True",
         "False",
         "False",
         "False",
         "False",
         "1140",
         "0",
         "1140"
        ],
        [
         "3",
         "12/05/2019",
         "CCU → NAG → BLR",
         "18:05",
         "23:30",
         "5h 25m",
         "1",
         "No info",
         "6218",
         "IndiGo",
         "False",
         "False",
         "False",
         "True",
         "False",
         "False",
         "False",
         "False",
         "False",
         "False",
         "False",
         "False",
         "False",
         "False",
         "False",
         "True",
         "False",
         "True",
         "False",
         "False",
         "False",
         "False",
         "False",
         "300",
         "25",
         "325"
        ],
        [
         "4",
         "01/03/2019",
         "BLR → NAG → DEL",
         "16:50",
         "21:35",
         "4h 45m",
         "1",
         "No info",
         "13302",
         "IndiGo",
         "False",
         "False",
         "False",
         "True",
         "False",
         "False",
         "False",
         "False",
         "False",
         "False",
         "False",
         "False",
         "True",
         "False",
         "False",
         "False",
         "False",
         "False",
         "False",
         "False",
         "False",
         "False",
         "True",
         "240",
         "45",
         "285"
        ]
       ],
       "shape": {
        "columns": 35,
        "rows": 5
       }
      },
      "text/html": [
       "<div>\n",
       "<style scoped>\n",
       "    .dataframe tbody tr th:only-of-type {\n",
       "        vertical-align: middle;\n",
       "    }\n",
       "\n",
       "    .dataframe tbody tr th {\n",
       "        vertical-align: top;\n",
       "    }\n",
       "\n",
       "    .dataframe thead th {\n",
       "        text-align: right;\n",
       "    }\n",
       "</style>\n",
       "<table border=\"1\" class=\"dataframe\">\n",
       "  <thead>\n",
       "    <tr style=\"text-align: right;\">\n",
       "      <th></th>\n",
       "      <th>Date_of_Journey</th>\n",
       "      <th>Route</th>\n",
       "      <th>Dep_Time</th>\n",
       "      <th>Arrival_Time</th>\n",
       "      <th>Duration</th>\n",
       "      <th>Total_Stops</th>\n",
       "      <th>Additional_Info</th>\n",
       "      <th>Price</th>\n",
       "      <th>airline</th>\n",
       "      <th>Airline_Air Asia</th>\n",
       "      <th>...</th>\n",
       "      <th>Source_Mumbai</th>\n",
       "      <th>Destination_Banglore</th>\n",
       "      <th>Destination_Cochin</th>\n",
       "      <th>Destination_Delhi</th>\n",
       "      <th>Destination_Hyderabad</th>\n",
       "      <th>Destination_Kolkata</th>\n",
       "      <th>Destination_New Delhi</th>\n",
       "      <th>Duration_Hours</th>\n",
       "      <th>Duration_Minutes</th>\n",
       "      <th>Duration_Total_Hours</th>\n",
       "    </tr>\n",
       "  </thead>\n",
       "  <tbody>\n",
       "    <tr>\n",
       "      <th>0</th>\n",
       "      <td>24/03/2019</td>\n",
       "      <td>BLR → DEL</td>\n",
       "      <td>22:20</td>\n",
       "      <td>01:10 22 Mar</td>\n",
       "      <td>2h 50m</td>\n",
       "      <td>0</td>\n",
       "      <td>No info</td>\n",
       "      <td>3897</td>\n",
       "      <td>IndiGo</td>\n",
       "      <td>False</td>\n",
       "      <td>...</td>\n",
       "      <td>False</td>\n",
       "      <td>False</td>\n",
       "      <td>False</td>\n",
       "      <td>False</td>\n",
       "      <td>False</td>\n",
       "      <td>False</td>\n",
       "      <td>True</td>\n",
       "      <td>120</td>\n",
       "      <td>50</td>\n",
       "      <td>170</td>\n",
       "    </tr>\n",
       "    <tr>\n",
       "      <th>1</th>\n",
       "      <td>1/05/2019</td>\n",
       "      <td>CCU → IXR → BBI → BLR</td>\n",
       "      <td>05:50</td>\n",
       "      <td>13:15</td>\n",
       "      <td>7h 25m</td>\n",
       "      <td>2</td>\n",
       "      <td>No info</td>\n",
       "      <td>7662</td>\n",
       "      <td>Air India</td>\n",
       "      <td>False</td>\n",
       "      <td>...</td>\n",
       "      <td>False</td>\n",
       "      <td>True</td>\n",
       "      <td>False</td>\n",
       "      <td>False</td>\n",
       "      <td>False</td>\n",
       "      <td>False</td>\n",
       "      <td>False</td>\n",
       "      <td>420</td>\n",
       "      <td>25</td>\n",
       "      <td>445</td>\n",
       "    </tr>\n",
       "    <tr>\n",
       "      <th>2</th>\n",
       "      <td>9/06/2019</td>\n",
       "      <td>DEL → LKO → BOM → COK</td>\n",
       "      <td>09:25</td>\n",
       "      <td>04:25 10 Jun</td>\n",
       "      <td>19h</td>\n",
       "      <td>2</td>\n",
       "      <td>No info</td>\n",
       "      <td>13882</td>\n",
       "      <td>Jet Airways</td>\n",
       "      <td>False</td>\n",
       "      <td>...</td>\n",
       "      <td>False</td>\n",
       "      <td>False</td>\n",
       "      <td>True</td>\n",
       "      <td>False</td>\n",
       "      <td>False</td>\n",
       "      <td>False</td>\n",
       "      <td>False</td>\n",
       "      <td>1140</td>\n",
       "      <td>0</td>\n",
       "      <td>1140</td>\n",
       "    </tr>\n",
       "    <tr>\n",
       "      <th>3</th>\n",
       "      <td>12/05/2019</td>\n",
       "      <td>CCU → NAG → BLR</td>\n",
       "      <td>18:05</td>\n",
       "      <td>23:30</td>\n",
       "      <td>5h 25m</td>\n",
       "      <td>1</td>\n",
       "      <td>No info</td>\n",
       "      <td>6218</td>\n",
       "      <td>IndiGo</td>\n",
       "      <td>False</td>\n",
       "      <td>...</td>\n",
       "      <td>False</td>\n",
       "      <td>True</td>\n",
       "      <td>False</td>\n",
       "      <td>False</td>\n",
       "      <td>False</td>\n",
       "      <td>False</td>\n",
       "      <td>False</td>\n",
       "      <td>300</td>\n",
       "      <td>25</td>\n",
       "      <td>325</td>\n",
       "    </tr>\n",
       "    <tr>\n",
       "      <th>4</th>\n",
       "      <td>01/03/2019</td>\n",
       "      <td>BLR → NAG → DEL</td>\n",
       "      <td>16:50</td>\n",
       "      <td>21:35</td>\n",
       "      <td>4h 45m</td>\n",
       "      <td>1</td>\n",
       "      <td>No info</td>\n",
       "      <td>13302</td>\n",
       "      <td>IndiGo</td>\n",
       "      <td>False</td>\n",
       "      <td>...</td>\n",
       "      <td>False</td>\n",
       "      <td>False</td>\n",
       "      <td>False</td>\n",
       "      <td>False</td>\n",
       "      <td>False</td>\n",
       "      <td>False</td>\n",
       "      <td>True</td>\n",
       "      <td>240</td>\n",
       "      <td>45</td>\n",
       "      <td>285</td>\n",
       "    </tr>\n",
       "  </tbody>\n",
       "</table>\n",
       "<p>5 rows × 35 columns</p>\n",
       "</div>"
      ],
      "text/plain": [
       "  Date_of_Journey                  Route Dep_Time  Arrival_Time Duration  \\\n",
       "0      24/03/2019              BLR → DEL    22:20  01:10 22 Mar   2h 50m   \n",
       "1       1/05/2019  CCU → IXR → BBI → BLR    05:50         13:15   7h 25m   \n",
       "2       9/06/2019  DEL → LKO → BOM → COK    09:25  04:25 10 Jun      19h   \n",
       "3      12/05/2019        CCU → NAG → BLR    18:05         23:30   5h 25m   \n",
       "4      01/03/2019        BLR → NAG → DEL    16:50         21:35   4h 45m   \n",
       "\n",
       "   Total_Stops Additional_Info  Price      airline  Airline_Air Asia  ...  \\\n",
       "0            0         No info   3897       IndiGo             False  ...   \n",
       "1            2         No info   7662    Air India             False  ...   \n",
       "2            2         No info  13882  Jet Airways             False  ...   \n",
       "3            1         No info   6218       IndiGo             False  ...   \n",
       "4            1         No info  13302       IndiGo             False  ...   \n",
       "\n",
       "   Source_Mumbai  Destination_Banglore  Destination_Cochin  Destination_Delhi  \\\n",
       "0          False                 False               False              False   \n",
       "1          False                  True               False              False   \n",
       "2          False                 False                True              False   \n",
       "3          False                  True               False              False   \n",
       "4          False                 False               False              False   \n",
       "\n",
       "   Destination_Hyderabad  Destination_Kolkata  Destination_New Delhi  \\\n",
       "0                  False                False                   True   \n",
       "1                  False                False                  False   \n",
       "2                  False                False                  False   \n",
       "3                  False                False                  False   \n",
       "4                  False                False                   True   \n",
       "\n",
       "   Duration_Hours  Duration_Minutes  Duration_Total_Hours  \n",
       "0             120                50                   170  \n",
       "1             420                25                   445  \n",
       "2            1140                 0                  1140  \n",
       "3             300                25                   325  \n",
       "4             240                45                   285  \n",
       "\n",
       "[5 rows x 35 columns]"
      ]
     },
     "execution_count": 74,
     "metadata": {},
     "output_type": "execute_result"
    }
   ],
   "source": [
    "dataset.head()"
   ]
  },
  {
   "cell_type": "code",
   "execution_count": 86,
   "id": "ec708c38",
   "metadata": {},
   "outputs": [],
   "source": [
    "dataset['Dep_Hour'] = pd.to_datetime(dataset['Dep_Time'], format='%H:%M').dt.hour\n",
    "dataset['Dep_Min'] = pd.to_datetime(dataset['Dep_Time'], format='%H:%M').dt.minute\n"
   ]
  },
  {
   "cell_type": "markdown",
   "id": "05a22776",
   "metadata": {},
   "source": [
    "It forces pandas to handle invalid date/time values safely.\n",
    "\n",
    "🔍 Without errors='coerce':\n",
    "If any value in Arrival_Time is not in a proper format, pandas will throw an error and stop execution."
   ]
  },
  {
   "cell_type": "code",
   "execution_count": 91,
   "id": "44cfd2df",
   "metadata": {},
   "outputs": [
    {
     "name": "stderr",
     "output_type": "stream",
     "text": [
      "/var/folders/kx/t7xsn3md0wxf_6_gg_5dqyrm0000gn/T/ipykernel_15729/3483403192.py:2: UserWarning: Could not infer format, so each element will be parsed individually, falling back to `dateutil`. To ensure parsing is consistent and as-expected, please specify a format.\n",
      "  dataset['Arri_Hour'] = pd.to_datetime(dataset['Arrival_Time'], errors='coerce').dt.hour\n",
      "/var/folders/kx/t7xsn3md0wxf_6_gg_5dqyrm0000gn/T/ipykernel_15729/3483403192.py:3: UserWarning: Could not infer format, so each element will be parsed individually, falling back to `dateutil`. To ensure parsing is consistent and as-expected, please specify a format.\n",
      "  dataset['Arri_Min'] = pd.to_datetime(dataset['Arrival_Time'], errors='coerce').dt.minute\n"
     ]
    }
   ],
   "source": [
    "# arrival time transformation\n",
    "dataset['Arri_Hour'] = pd.to_datetime(dataset['Arrival_Time'], errors='coerce').dt.hour\n",
    "dataset['Arri_Min'] = pd.to_datetime(dataset['Arrival_Time'], errors='coerce').dt.minute\n"
   ]
  },
  {
   "cell_type": "markdown",
   "id": "b76747fe",
   "metadata": {},
   "source": [
    "# Spliting departure and arrival time intop time zone \n"
   ]
  },
  {
   "cell_type": "markdown",
   "id": "12b80bdd",
   "metadata": {},
   "source": [
    "pd.cut() is used to bin or discretize continuous numerical data into categories.\n",
    "\n",
    "Here you're telling pandas:\n",
    "\n",
    "\"Divide the Dep_Hour values into these intervals (bins): [0, 6, 12, 18, 24]\"\n",
    "\n",
    "That creates the following intervals:\n",
    "\n",
    "0–6 → Night\n",
    "\n",
    "6–12 → Morning\n",
    "\n",
    "12–18 → Afternoon\n",
    "\n",
    "18–24 → Evening\n"
   ]
  },
  {
   "cell_type": "code",
   "execution_count": 94,
   "id": "daed474d",
   "metadata": {},
   "outputs": [
    {
     "data": {
      "application/vnd.microsoft.datawrangler.viewer.v0+json": {
       "columns": [
        {
         "name": "index",
         "rawType": "int64",
         "type": "integer"
        },
        {
         "name": "dep_timezone",
         "rawType": "category",
         "type": "unknown"
        }
       ],
       "ref": "2ed40a20-0aa3-4427-864d-1843ceac9ed6",
       "rows": [
        [
         "0",
         "Evening"
        ],
        [
         "1",
         "Night"
        ],
        [
         "2",
         "Morning"
        ],
        [
         "3",
         "Afternoon"
        ],
        [
         "4",
         "Afternoon"
        ],
        [
         "5",
         "Morning"
        ],
        [
         "6",
         "Afternoon"
        ],
        [
         "7",
         "Morning"
        ],
        [
         "8",
         "Morning"
        ],
        [
         "9",
         "Morning"
        ],
        [
         "10",
         "Morning"
        ],
        [
         "11",
         "Evening"
        ],
        [
         "12",
         "Morning"
        ],
        [
         "13",
         "Evening"
        ],
        [
         "14",
         "Afternoon"
        ],
        [
         "15",
         "Afternoon"
        ],
        [
         "16",
         "Morning"
        ],
        [
         "17",
         "Afternoon"
        ],
        [
         "18",
         "Evening"
        ],
        [
         "19",
         "Afternoon"
        ],
        [
         "20",
         "Afternoon"
        ],
        [
         "21",
         "Evening"
        ],
        [
         "22",
         "Night"
        ],
        [
         "23",
         "Afternoon"
        ],
        [
         "24",
         "Afternoon"
        ],
        [
         "25",
         "Evening"
        ],
        [
         "26",
         "Evening"
        ],
        [
         "27",
         "Morning"
        ],
        [
         "28",
         "Morning"
        ],
        [
         "29",
         "Morning"
        ],
        [
         "30",
         "Morning"
        ],
        [
         "31",
         "Morning"
        ],
        [
         "32",
         "Night"
        ],
        [
         "33",
         "Afternoon"
        ],
        [
         "34",
         "Morning"
        ],
        [
         "35",
         "Morning"
        ],
        [
         "36",
         "Afternoon"
        ],
        [
         "37",
         "Afternoon"
        ],
        [
         "38",
         "Morning"
        ],
        [
         "39",
         "Morning"
        ],
        [
         "40",
         "Morning"
        ],
        [
         "41",
         "Night"
        ],
        [
         "42",
         "Evening"
        ],
        [
         "43",
         "Morning"
        ],
        [
         "44",
         "Morning"
        ],
        [
         "45",
         "Night"
        ],
        [
         "46",
         "Night"
        ],
        [
         "47",
         "Morning"
        ],
        [
         "48",
         "Evening"
        ],
        [
         "49",
         "Evening"
        ]
       ],
       "shape": {
        "columns": 1,
        "rows": 10683
       }
      },
      "text/plain": [
       "0          Evening\n",
       "1            Night\n",
       "2          Morning\n",
       "3        Afternoon\n",
       "4        Afternoon\n",
       "           ...    \n",
       "10678      Evening\n",
       "10679      Evening\n",
       "10680      Morning\n",
       "10681      Morning\n",
       "10682      Morning\n",
       "Name: dep_timezone, Length: 10683, dtype: category\n",
       "Categories (4, object): ['Night' < 'Morning' < 'Afternoon' < 'Evening']"
      ]
     },
     "execution_count": 94,
     "metadata": {},
     "output_type": "execute_result"
    }
   ],
   "source": [
    "# pd.cut() is used to bin or discretize continuous numerical data into categories.\n",
    "\n",
    "\n",
    "dataset['dep_timezone']= pd.cut(dataset.Dep_Hour, [0, 6, 12, 18, 24],\n",
    "                                labels= ['Night', 'Morning', 'Afternoon', 'Evening'])\n",
    "dataset['dep_timezone']"
   ]
  },
  {
   "cell_type": "code",
   "execution_count": 93,
   "id": "6755b196",
   "metadata": {},
   "outputs": [
    {
     "data": {
      "application/vnd.microsoft.datawrangler.viewer.v0+json": {
       "columns": [
        {
         "name": "index",
         "rawType": "int64",
         "type": "integer"
        },
        {
         "name": "Arrival_timezone",
         "rawType": "category",
         "type": "unknown"
        }
       ],
       "ref": "ed8e296e-ef78-4c47-b607-d6ddd6252e4b",
       "rows": [
        [
         "0",
         "Night"
        ],
        [
         "1",
         "Afternoon"
        ],
        [
         "2",
         "Night"
        ],
        [
         "3",
         "Evening"
        ],
        [
         "4",
         "Evening"
        ],
        [
         "5",
         "Morning"
        ],
        [
         "6",
         "Morning"
        ],
        [
         "7",
         "Night"
        ],
        [
         "8",
         "Morning"
        ],
        [
         "9",
         "Evening"
        ],
        [
         "10",
         "Evening"
        ],
        [
         "11",
         "Evening"
        ],
        [
         "12",
         "Afternoon"
        ],
        [
         "13",
         "Morning"
        ],
        [
         "14",
         "Evening"
        ],
        [
         "15",
         "Evening"
        ],
        [
         "16",
         "Afternoon"
        ],
        [
         "17",
         "Morning"
        ],
        [
         "18",
         "Evening"
        ],
        [
         "19",
         "Morning"
        ],
        [
         "20",
         "Evening"
        ],
        [
         "21",
         "Afternoon"
        ],
        [
         "22",
         "Night"
        ],
        [
         "23",
         "Evening"
        ],
        [
         "24",
         "Morning"
        ],
        [
         "25",
         "Morning"
        ],
        [
         "26",
         "Night"
        ],
        [
         "27",
         "Morning"
        ],
        [
         "28",
         "Morning"
        ],
        [
         "29",
         "Morning"
        ],
        [
         "30",
         "Morning"
        ],
        [
         "31",
         "Evening"
        ],
        [
         "32",
         "Night"
        ],
        [
         "33",
         "Morning"
        ],
        [
         "34",
         "Morning"
        ],
        [
         "35",
         "Evening"
        ],
        [
         "36",
         "Evening"
        ],
        [
         "37",
         "Afternoon"
        ],
        [
         "38",
         "Afternoon"
        ],
        [
         "39",
         "Evening"
        ],
        [
         "40",
         "Afternoon"
        ],
        [
         "41",
         "Afternoon"
        ],
        [
         "42",
         "Evening"
        ],
        [
         "43",
         "Afternoon"
        ],
        [
         "44",
         "Evening"
        ],
        [
         "45",
         "Morning"
        ],
        [
         "46",
         "Night"
        ],
        [
         "47",
         "Afternoon"
        ],
        [
         "48",
         "Morning"
        ],
        [
         "49",
         "Evening"
        ]
       ],
       "shape": {
        "columns": 1,
        "rows": 10683
       }
      },
      "text/plain": [
       "0            Night\n",
       "1        Afternoon\n",
       "2            Night\n",
       "3          Evening\n",
       "4          Evening\n",
       "           ...    \n",
       "10678      Evening\n",
       "10679      Evening\n",
       "10680      Morning\n",
       "10681    Afternoon\n",
       "10682      Evening\n",
       "Name: Arrival_timezone, Length: 10683, dtype: category\n",
       "Categories (4, object): ['Night' < 'Morning' < 'Afternoon' < 'Evening']"
      ]
     },
     "execution_count": 93,
     "metadata": {},
     "output_type": "execute_result"
    }
   ],
   "source": [
    "dataset['Arrival_timezone']= pd.cut(dataset.Arri_Hour, [0, 6, 12, 18, 24],\n",
    "                                labels= ['Night', 'Morning', 'Afternoon', 'Evening'])\n",
    "dataset['Arrival_timezone']"
   ]
  },
  {
   "cell_type": "code",
   "execution_count": null,
   "id": "2a220372",
   "metadata": {},
   "outputs": [],
   "source": []
  }
 ],
 "metadata": {
  "kernelspec": {
   "display_name": "dl-env",
   "language": "python",
   "name": "python3"
  },
  "language_info": {
   "codemirror_mode": {
    "name": "ipython",
    "version": 3
   },
   "file_extension": ".py",
   "mimetype": "text/x-python",
   "name": "python",
   "nbconvert_exporter": "python",
   "pygments_lexer": "ipython3",
   "version": "3.10.9"
  }
 },
 "nbformat": 4,
 "nbformat_minor": 5
}
