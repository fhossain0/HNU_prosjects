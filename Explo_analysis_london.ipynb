{
 "cells": [
  {
   "cell_type": "code",
   "execution_count": 14,
   "id": "70b09bd2",
   "metadata": {},
   "outputs": [],
   "source": [
    "import pandas as pd\n",
    "import seaborn as sns\n",
    "import matplotlib.pyplot as plt\n",
    "%matplotlib inline \n",
    "import datetime"
   ]
  },
  {
   "cell_type": "code",
   "execution_count": 22,
   "id": "097d9c39",
   "metadata": {},
   "outputs": [],
   "source": [
    "file= '/Users/farhad/Desktop/Frauser /Datasets/london_merged.csv'"
   ]
  },
  {
   "cell_type": "code",
   "execution_count": 20,
   "id": "7859db05",
   "metadata": {},
   "outputs": [],
   "source": [
    "londonset= pd.read_csv(file)"
   ]
  },
  {
   "cell_type": "code",
   "execution_count": 23,
   "id": "029e0da2",
   "metadata": {},
   "outputs": [
    {
     "name": "stdout",
     "output_type": "stream",
     "text": [
      "<class 'pandas.core.frame.DataFrame'>\n",
      "RangeIndex: 17414 entries, 0 to 17413\n",
      "Data columns (total 10 columns):\n",
      " #   Column        Non-Null Count  Dtype  \n",
      "---  ------        --------------  -----  \n",
      " 0   timestamp     17414 non-null  object \n",
      " 1   cnt           17414 non-null  int64  \n",
      " 2   t1            17414 non-null  float64\n",
      " 3   t2            17414 non-null  float64\n",
      " 4   hum           17414 non-null  float64\n",
      " 5   wind_speed    17414 non-null  float64\n",
      " 6   weather_code  17414 non-null  float64\n",
      " 7   is_holiday    17414 non-null  float64\n",
      " 8   is_weekend    17414 non-null  float64\n",
      " 9   season        17414 non-null  float64\n",
      "dtypes: float64(8), int64(1), object(1)\n",
      "memory usage: 1.3+ MB\n"
     ]
    },
    {
     "data": {
      "text/plain": [
       "Index(['timestamp', 'cnt', 't1', 't2', 'hum', 'wind_speed', 'weather_code',\n",
       "       'is_holiday', 'is_weekend', 'season'],\n",
       "      dtype='object')"
      ]
     },
     "execution_count": 23,
     "metadata": {},
     "output_type": "execute_result"
    }
   ],
   "source": [
    "londonset.info()\n",
    "londonset.shape\n",
    "londonset.describe()\n",
    "londonset.columns"
   ]
  },
  {
   "cell_type": "code",
   "execution_count": 24,
   "id": "a04ea080",
   "metadata": {},
   "outputs": [
    {
     "data": {
      "text/plain": [
       "pandas.core.frame.DataFrame"
      ]
     },
     "execution_count": 24,
     "metadata": {},
     "output_type": "execute_result"
    }
   ],
   "source": [
    "londonset.rename(columns= {'cnt': 'newshare', 't1': 'real_temp', 't2': 'feels_temp', 'hum':'humidity'}, inplace= True)\n",
    "type(londonset)"
   ]
  },
  {
   "cell_type": "code",
   "execution_count": null,
   "id": "b098f74e",
   "metadata": {},
   "outputs": [],
   "source": [
    "londonset['Datetime']= pd.to_datetime(londonset['timestamp'])\n",
    "londonset['day']= londonset['Datetime'].dt.day\n",
    "londonset['year']= londonset['Datetime'].dt.year\n",
    "londonset['month']= londonset['Datetime'].dt.month\n",
    "londonset['time']= londonset['Datetime'].dt.hour\n",
    "londonset= londonset[[ 'newshare', 'real_temp', 'feels_temp', 'humidity',\n",
    "       'wind_speed', 'weather_code', 'is_holiday', 'is_weekend',\n",
    "        'Date', 'day', 'year', 'month', 'time', 'season']]"
   ]
  },
  {
   "cell_type": "markdown",
   "id": "121ba8ec",
   "metadata": {},
   "source": [
    "Metadata:\n",
    "\n",
    "+ \"timestamp\" - timestamp field for grouping the data\n",
    "+ \"cnt\" - the count of a new bike shares\n",
    "+ \"t1\" - real temperature in C\n",
    "+ \"t2\" - temperature in C \"feels like\"\n",
    "+ \"hum\" - humidity in percentage\n",
    "+ \"wind_speed\" - wind speed in km/h\n",
    "+ \"weather_code\" - category of the weather\n",
    "+ \"is_holiday\" - boolean field - 1 holiday / 0 non holiday\n",
    "+ \"is_weekend\" - boolean field - 1 if the day is weekend\n",
    "+ \"season\" - category field meteorological seasons: 0-spring ; 1-summer; 2-fall; 3-winter.\n",
    "\n",
    "+ \"weathe_code\" category description:\n",
    "+ 1 = Clear ; mostly clear but have some values with haze/fog/patches of fog/ fog in vicinity 2 = scattered clouds / few clouds 3 = Broken  \n",
    "+ clouds 4 = Cloudy 7 = Rain/ light Rain shower/ Light rain 10 = rain with thunderstorm 26 = snowfall 94 = Freezing Fog"
   ]
  },
  {
   "cell_type": "code",
   "execution_count": null,
   "id": "cb2225d1",
   "metadata": {},
   "outputs": [
    {
     "data": {
      "application/vnd.microsoft.datawrangler.viewer.v0+json": {
       "columns": [
        {
         "name": "index",
         "rawType": "object",
         "type": "string"
        },
        {
         "name": "newshare",
         "rawType": "float64",
         "type": "float"
        }
       ],
       "ref": "edab4322-e98f-4edc-883f-8aabc49faa41",
       "rows": [
        [
         "real_temp",
         "0.38879845125472945"
        ],
        [
         "feels_temp",
         "0.3690347940673487"
        ],
        [
         "time",
         "0.32442346631194896"
        ],
        [
         "wind_speed",
         "0.11629523130937613"
        ],
        [
         "season",
         "-0.11618023316558843"
        ],
        [
         "weather_code",
         "-0.16663275893468604"
        ],
        [
         "humidity",
         "-0.46290096484274273"
        ]
       ],
       "shape": {
        "columns": 1,
        "rows": 7
       }
      },
      "text/plain": [
       "real_temp       0.388798\n",
       "feels_temp      0.369035\n",
       "time            0.324423\n",
       "wind_speed      0.116295\n",
       "season         -0.116180\n",
       "weather_code   -0.166633\n",
       "humidity       -0.462901\n",
       "Name: newshare, dtype: float64"
      ]
     },
     "execution_count": 105,
     "metadata": {},
     "output_type": "execute_result"
    }
   ],
   "source": [
    "londonset.sample(n=7, replace= True)\n",
    "londonset.describe()\n",
    "\n",
    "reletion= londonset.corr()['newshare'][1:]\n",
    "top_reletion= reletion[abs(reletion)>.1].sort_values(ascending=False)\n",
    "top_reletion\n"
   ]
  },
  {
   "cell_type": "code",
   "execution_count": null,
   "id": "e1ba5455",
   "metadata": {},
   "outputs": [],
   "source": [
    "top_reletion.plot(kind='bar', figsize=(10, 6), color='skyblue')\n",
    "plt.title(\"Correlation with Target\")\n",
    "plt.xlabel(\"Features\")\n",
    "plt.ylabel(\"Correlation Coefficient\")\n",
    "plt.xticks(rotation=45)\n",
    "plt.tight_layout()\n",
    "plt.show()"
   ]
  },
  {
   "cell_type": "code",
   "execution_count": 94,
   "id": "0c7cbc69",
   "metadata": {},
   "outputs": [
    {
     "data": {
      "application/vnd.microsoft.datawrangler.viewer.v0+json": {
       "columns": [
        {
         "name": "index",
         "rawType": "object",
         "type": "string"
        },
        {
         "name": "newshare",
         "rawType": "float64",
         "type": "float"
        }
       ],
       "ref": "9498df6e-e8f6-4c18-8740-fbc9172fea4b",
       "rows": [
        [
         "real_temp",
         "0.38879845125472945"
        ],
        [
         "feels_temp",
         "0.3690347940673487"
        ],
        [
         "humidity",
         "-0.46290096484274273"
        ],
        [
         "wind_speed",
         "0.11629523130937613"
        ],
        [
         "weather_code",
         "-0.16663275893468604"
        ],
        [
         "time",
         "0.32442346631194896"
        ],
        [
         "season",
         "-0.11618023316558843"
        ]
       ],
       "shape": {
        "columns": 1,
        "rows": 7
       }
      },
      "text/plain": [
       "real_temp       0.388798\n",
       "feels_temp      0.369035\n",
       "humidity       -0.462901\n",
       "wind_speed      0.116295\n",
       "weather_code   -0.166633\n",
       "time            0.324423\n",
       "season         -0.116180\n",
       "Name: newshare, dtype: float64"
      ]
     },
     "execution_count": 94,
     "metadata": {},
     "output_type": "execute_result"
    }
   ],
   "source": [
    "top_reletion"
   ]
  },
  {
   "cell_type": "code",
   "execution_count": null,
   "id": "2a60d447",
   "metadata": {},
   "outputs": [],
   "source": [
    "# to be contenued "
   ]
  }
 ],
 "metadata": {
  "kernelspec": {
   "display_name": "dl-env",
   "language": "python",
   "name": "python3"
  },
  "language_info": {
   "codemirror_mode": {
    "name": "ipython",
    "version": 3
   },
   "file_extension": ".py",
   "mimetype": "text/x-python",
   "name": "python",
   "nbconvert_exporter": "python",
   "pygments_lexer": "ipython3",
   "version": "3.10.9"
  }
 },
 "nbformat": 4,
 "nbformat_minor": 5
}
